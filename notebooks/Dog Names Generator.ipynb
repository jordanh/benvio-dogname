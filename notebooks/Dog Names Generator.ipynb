{
 "metadata": {
  "name": "",
  "signature": "sha256:dacf4638532a5e7f79c1080e621792c01f92c4f9143772459af1713a6c5deb57"
 },
 "nbformat": 3,
 "nbformat_minor": 0,
 "worksheets": [
  {
   "cells": [
    {
     "cell_type": "code",
     "collapsed": false,
     "input": [
      "import itertools\n",
      "import random\n",
      "import string"
     ],
     "language": "python",
     "metadata": {},
     "outputs": [],
     "prompt_number": 256
    },
    {
     "cell_type": "code",
     "collapsed": false,
     "input": [
      "# The below code is from the Python documentation, it extends the csv library to handle Unicode:\n",
      "\n",
      "import csv, codecs, cStringIO\n",
      "\n",
      "class UTF8Recoder:\n",
      "    \"\"\"\n",
      "    Iterator that reads an encoded stream and reencodes the input to UTF-8\n",
      "    \"\"\"\n",
      "    def __init__(self, f, encoding):\n",
      "        self.reader = codecs.getreader(encoding)(f)\n",
      "\n",
      "    def __iter__(self):\n",
      "        return self\n",
      "\n",
      "    def next(self):\n",
      "        return self.reader.next().encode(\"utf-8\")\n",
      "\n",
      "class UnicodeReader:\n",
      "    \"\"\"\n",
      "    A CSV reader which will iterate over lines in the CSV file \"f\",\n",
      "    which is encoded in the given encoding.\n",
      "    \"\"\"\n",
      "\n",
      "    def __init__(self, f, dialect=csv.excel, encoding=\"utf-8\", **kwds):\n",
      "        f = UTF8Recoder(f, encoding)\n",
      "        self.reader = csv.reader(f, dialect=dialect, **kwds)\n",
      "\n",
      "    def next(self):\n",
      "        row = self.reader.next()\n",
      "        return [unicode(s, \"utf-8\") for s in row]\n",
      "\n",
      "    def __iter__(self):\n",
      "        return self\n",
      "    \n",
      "class UnicodeWriter:\n",
      "    \"\"\"\n",
      "    A CSV writer which will write rows to CSV file \"f\",\n",
      "    which is encoded in the given encoding.\n",
      "    \"\"\"\n",
      "\n",
      "    def __init__(self, f, dialect=csv.excel, encoding=\"utf-8\", **kwds):\n",
      "        # Redirect output to a queue\n",
      "        self.queue = cStringIO.StringIO()\n",
      "        self.writer = csv.writer(self.queue, dialect=dialect, **kwds)\n",
      "        self.stream = f\n",
      "        self.encoder = codecs.getincrementalencoder(encoding)()\n",
      "\n",
      "    def writerow(self, row):\n",
      "        self.writer.writerow([s.encode(\"utf-8\") for s in row])\n",
      "        # Fetch UTF-8 output from the queue ...\n",
      "        data = self.queue.getvalue()\n",
      "        data = data.decode(\"utf-8\")\n",
      "        # ... and reencode it into the target encoding\n",
      "        data = self.encoder.encode(data)\n",
      "        # write to the target stream\n",
      "        self.stream.write(data)\n",
      "        # empty queue\n",
      "        self.queue.truncate(0)\n",
      "\n",
      "    def writerows(self, rows):\n",
      "        for row in rows:\n",
      "            self.writerow(row)    "
     ],
     "language": "python",
     "metadata": {},
     "outputs": [],
     "prompt_number": 257
    },
    {
     "cell_type": "code",
     "collapsed": false,
     "input": [
      "# Read our list of popular pet names:\n",
      "petnames = []\n",
      "with open('../data/petnames.csv', 'rb') as csvfile:\n",
      "    petreader = UnicodeReader(csvfile)\n",
      "    for row in petreader:\n",
      "        petnames.append(row)\n",
      "petnames = [ row[1].lower() for row in petnames[1:] ]"
     ],
     "language": "python",
     "metadata": {},
     "outputs": [],
     "prompt_number": 258
    },
    {
     "cell_type": "code",
     "collapsed": false,
     "input": [
      "# Read in our list of obscenities:\n",
      "badwords = open('../data/bad-words.txt', 'r').read().splitlines()[1:]\n",
      "badwords = map(lambda w: w.lower(), badwords)"
     ],
     "language": "python",
     "metadata": {},
     "outputs": [],
     "prompt_number": 259
    },
    {
     "cell_type": "code",
     "collapsed": false,
     "input": [
      "# Generate all possible combinations of the two lists:\n",
      "names = list(itertools.product(petnames, badwords))\n",
      "names.extend(list(itertools.product(badwords, petnames)))"
     ],
     "language": "python",
     "metadata": {},
     "outputs": [],
     "prompt_number": 260
    },
    {
     "cell_type": "code",
     "collapsed": false,
     "input": [
      "# Filter to only alliterative combinations:\n",
      "names = filter(lambda n: n[0][0] == n[1][0], names)"
     ],
     "language": "python",
     "metadata": {},
     "outputs": [],
     "prompt_number": 261
    },
    {
     "cell_type": "code",
     "collapsed": false,
     "input": [
      "# Define a function that will take N random items from a list:\n",
      "def resevoir_sample(take_n, items):\n",
      "    sample = []\n",
      "    for i, line in enumerate(items):\n",
      "        if i < take_n:\n",
      "            sample.append(line)\n",
      "        elif i >= take_n and random.random() < take_n/float(i+1):\n",
      "            replace = random.randint(0,len(sample)-1)\n",
      "            sample[replace] = line\n",
      "    return sample\n",
      "\n",
      "# Build a list of 1,000 names, taking from our alitterative names, obscenities, and popular pet names:\n",
      "names = map(lambda n: ' '.join(n), resevoir_sample(250, names))\n",
      "names.extend(resevoir_sample(250, badwords))\n",
      "names.extend(resevoir_sample(500, petnames))\n",
      "names = map(lambda n: string.capwords(n), names)"
     ],
     "language": "python",
     "metadata": {},
     "outputs": [],
     "prompt_number": 262
    },
    {
     "cell_type": "code",
     "collapsed": false,
     "input": [
      "# Show a sample of what we'll soon output:\n",
      "random.shuffle(names)\n",
      "name_rows = map(lambda n: [n,], names)\n",
      "name_rows[0:10]"
     ],
     "language": "python",
     "metadata": {},
     "outputs": [
      {
       "metadata": {},
       "output_type": "pyout",
       "prompt_number": 263,
       "text": [
        "[[u'Lincoln'],\n",
        " [u'Murder Marley'],\n",
        " [u'Sheeney Skitters'],\n",
        " [u'Vaca'],\n",
        " [u'Margarita Minority'],\n",
        " [u'Chappy Creamy'],\n",
        " [u'Lloyd'],\n",
        " [u'Shoot Storm'],\n",
        " ['Usama'],\n",
        " [u'Freddy']]"
       ]
      }
     ],
     "prompt_number": 263
    },
    {
     "cell_type": "code",
     "collapsed": false,
     "input": [
      "# Write the output:\n",
      "with open('../output.csv', 'wb') as csvfile:\n",
      "    outputwriter = UnicodeWriter(csvfile)\n",
      "    outputwriter.writerows(name_rows)"
     ],
     "language": "python",
     "metadata": {},
     "outputs": [],
     "prompt_number": 264
    },
    {
     "cell_type": "code",
     "collapsed": false,
     "input": [],
     "language": "python",
     "metadata": {},
     "outputs": [],
     "prompt_number": 264
    }
   ],
   "metadata": {}
  }
 ]
}